{
 "cells": [
  {
   "cell_type": "code",
   "execution_count": 26,
   "metadata": {},
   "outputs": [
    {
     "name": "stdout",
     "output_type": "stream",
     "text": [
      "AsdbdcAsb\n",
      "\\aabd-\\' \n"
     ]
    }
   ],
   "source": [
    "#正则表达式：字符串模式（判断字符串是否符合一定的标准）\n",
    "\n",
    "import re\n",
    "# 创建模式对象\n",
    "\n",
    "pat=re.compile('AA') #此处的AA是正则表达式，用来去验证其他的字符串\n",
    "# m=pat.search('ABCAA')   #search后面的字符串是被校验的内容，search方法进行比对查找\n",
    "\n",
    "#没有模式对象\n",
    "# m=re.search('asd','Easd')  #前面的字符串为规则，后面的字符串是被校验的对象\n",
    "# print(m)\n",
    "\n",
    "# print(re.findall('a','ASDaDFGAa'))    #前面的字符串为规则(正则表达式)，后面的字符串是被校验的对象\n",
    "\n",
    "# print(re.findall('[A-Z]+','ASDaDFGAa'))\n",
    "\n",
    "\n",
    "\n",
    "#sub\n",
    "print(re.sub('a','A','asdbdcasb'))   #找到a，用A来替换，应用在第三个字符串中\n",
    "\n",
    "#建议在正则表达式中，被比较的字符串前面加上r，不用担心转义字符的问题\n",
    "print(r\"\\aabd-\\' \")\n",
    "\n",
    "\n"
   ]
  },
  {
   "cell_type": "code",
   "execution_count": null,
   "metadata": {},
   "outputs": [],
   "source": []
  },
  {
   "cell_type": "code",
   "execution_count": null,
   "metadata": {},
   "outputs": [],
   "source": []
  }
 ],
 "metadata": {
  "kernelspec": {
   "display_name": "Python 3",
   "language": "python",
   "name": "python3"
  },
  "language_info": {
   "codemirror_mode": {
    "name": "ipython",
    "version": 3
   },
   "file_extension": ".py",
   "mimetype": "text/x-python",
   "name": "python",
   "nbconvert_exporter": "python",
   "pygments_lexer": "ipython3",
   "version": "3.7.6"
  }
 },
 "nbformat": 4,
 "nbformat_minor": 4
}
