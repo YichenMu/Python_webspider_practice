{
 "cells": [
  {
   "cell_type": "code",
   "execution_count": 4,
   "metadata": {},
   "outputs": [],
   "source": [
    "import xlwt\n",
    "\n",
    "# workbook=xlwt.Workbook(encoding='utf-8')  #创建workbook对象\n",
    "# worksheet=workbook.add_sheet('sheet1')   #创建工作表\n",
    "# worksheet.write(0,0,'hello')      #写入数据，第一行参数表示行，第二参数表示列，第三参数内容\n",
    "# workbook.save('student.xls')    #保存数据表  \n",
    "\n",
    "workbook=xlwt.Workbook(encoding='utf-8')\n",
    "worksheet=workbook.add_sheet('sheet1')\n",
    "for i in range(0,9):\n",
    "    for j in range(0,i+1):\n",
    "        worksheet.write(i,j,\"%d*%d=%d\"%(i+1,j+1,(i+1)*(j+1)))\n",
    "workbook.save('student.xlsx')"
   ]
  },
  {
   "cell_type": "code",
   "execution_count": null,
   "metadata": {},
   "outputs": [],
   "source": []
  }
 ],
 "metadata": {
  "kernelspec": {
   "display_name": "Python 3",
   "language": "python",
   "name": "python3"
  },
  "language_info": {
   "codemirror_mode": {
    "name": "ipython",
    "version": 3
   },
   "file_extension": ".py",
   "mimetype": "text/x-python",
   "name": "python",
   "nbconvert_exporter": "python",
   "pygments_lexer": "ipython3",
   "version": "3.7.6"
  }
 },
 "nbformat": 4,
 "nbformat_minor": 4
}
