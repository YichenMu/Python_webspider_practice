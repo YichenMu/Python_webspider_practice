{
 "cells": [
  {
   "cell_type": "code",
   "execution_count": null,
   "metadata": {},
   "outputs": [],
   "source": [
    "def main():\n",
    "    baseurl=\n",
    "    data=getData(baseurl)\n",
    "    savepath=\n",
    "    saveData(data,savepath)\n",
    "    \n",
    "    \n",
    "findLink=re.compile('',re.S)\n",
    "    \n",
    "def getData(baseurl):\n",
    "    datalist=[]\n",
    "    for i in range(0,10):\n",
    "        url=baseurl+str(i*25)\n",
    "        html=askURL(url)\n",
    "        soup=BeautifulSoup(html,'html.parser')\n",
    "        for item in soup.find_all('div',class_=' '):\n",
    "            data=[]\n",
    "            item=str(item)\n",
    "            Link=re.findall(findLink,item)[0]\n",
    "            .\n",
    "            .\n",
    "            .\n",
    "            .\n",
    "            .\n",
    "            data.append()\n",
    "            datalist.append(data)\n",
    "    return datalist\n",
    "    \n",
    "    \n",
    "def askURL(baseurl):\n",
    "    head={''}\n",
    "    html=''\n",
    "    get=urllib.request.Request(url,headers=head)\n",
    "    response=urllib.request.urlopen(get)\n",
    "    html=response.read().decode('utf-8')\n",
    "    \n",
    "    return html\n",
    "\n",
    "def saveData(datalist,savepath):\n",
    "    book=xlwt.Workbook(encoding='utf-8',style_compression=0)\n",
    "    sheet=book.add_sheet('表名')\n",
    "    col=( , , , , )\n",
    "    for i in range(len(col)):\n",
    "        sheet.write(0,i,col[i])\n",
    "    for i in range(0,250):\n",
    "        data=datalist[i]\n",
    "        for j in range(len(col)):\n",
    "            sheet.write(i+1,j,data[j])\n",
    "    book.save(savepath)\n",
    "    \n",
    "if __name__=='__main__':\n",
    "    main()\n",
    "    print('爬取完毕')\n",
    "    "
   ]
  }
 ],
 "metadata": {
  "kernelspec": {
   "display_name": "Python 3",
   "language": "python",
   "name": "python3"
  },
  "language_info": {
   "codemirror_mode": {
    "name": "ipython",
    "version": 3
   },
   "file_extension": ".py",
   "mimetype": "text/x-python",
   "name": "python",
   "nbconvert_exporter": "python",
   "pygments_lexer": "ipython3",
   "version": "3.7.6"
  }
 },
 "nbformat": 4,
 "nbformat_minor": 4
}
